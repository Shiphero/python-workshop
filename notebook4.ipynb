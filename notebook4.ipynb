{
 "cells": [
  {
   "cell_type": "markdown",
   "id": "205009f4-b7f5-477b-bf0a-fbcf30d86600",
   "metadata": {},
   "source": [
    "# Pythonic classes"
   ]
  },
  {
   "cell_type": "markdown",
   "id": "bda83578-c8f7-4fc5-8db1-dffdaf15bdf9",
   "metadata": {},
   "source": [
    "### Iterables and iterators\n",
    "\n",
    "An iterable is\n",
    "- an object that has an `__iter__` method which returns an **iterator**, \n",
    "- or which defines a `__getitem__` method that can take sequential indexes starting from zero (and raises an IndexError when the indexes are no longer valid). \n",
    "\n",
    "Un iterator\n",
    "\n",
    "-  def __next__"
   ]
  },
  {
   "cell_type": "code",
   "execution_count": 6,
   "id": "5505ef98-b5bd-4bf2-b10f-5bdfa8356edc",
   "metadata": {},
   "outputs": [],
   "source": [
    "class Order:\n",
    "    def __init__(self, line_items):\n",
    "        self.line_items = line_items\n",
    "        \n",
    "    def __iter__(self):\n",
    "        return iter(self.line_items)"
   ]
  },
  {
   "cell_type": "code",
   "execution_count": 3,
   "id": "4105c9a7-5c47-429e-8534-dbc406e30771",
   "metadata": {},
   "outputs": [
    {
     "data": {
      "text/plain": [
       "<list_iterator at 0x7f67b8225b50>"
      ]
     },
     "execution_count": 3,
     "metadata": {},
     "output_type": "execute_result"
    }
   ],
   "source": [
    "iter([1, 2, 3]) "
   ]
  },
  {
   "cell_type": "code",
   "execution_count": 8,
   "id": "df122263-75ae-4dbc-92ee-484d33114dee",
   "metadata": {},
   "outputs": [
    {
     "name": "stdout",
     "output_type": "stream",
     "text": [
      "1\n",
      "2\n",
      "3\n"
     ]
    }
   ],
   "source": [
    "order = Order(line_items=[1, 2, 3])\n",
    "\n",
    "for li in order:\n",
    "    print(li)"
   ]
  },
  {
   "cell_type": "code",
   "execution_count": 18,
   "id": "09863a26-9840-4d21-82d7-5d06013665c1",
   "metadata": {},
   "outputs": [],
   "source": [
    "class Order2:\n",
    "    def __init__(self, line_items):\n",
    "        self.line_items = line_items\n",
    "    \n",
    "    def __getitem__(self, index):\n",
    "        return self.line_items[index]\n",
    "    "
   ]
  },
  {
   "cell_type": "code",
   "execution_count": 19,
   "id": "08e8bc81-cf39-47b2-aa0b-82f2946858f0",
   "metadata": {},
   "outputs": [
    {
     "name": "stdout",
     "output_type": "stream",
     "text": [
      "1\n",
      "2\n",
      "3\n"
     ]
    }
   ],
   "source": [
    "order = Order2(line_items=[1, 2, 3])\n",
    "\n",
    "for li in order:\n",
    "    print(li)"
   ]
  },
  {
   "cell_type": "code",
   "execution_count": 25,
   "id": "f5839458-65aa-467f-ba61-36f75974a46e",
   "metadata": {},
   "outputs": [
    {
     "data": {
      "text/plain": [
       "<list_iterator at 0x7f67a8d71e50>"
      ]
     },
     "execution_count": 25,
     "metadata": {},
     "output_type": "execute_result"
    }
   ],
   "source": [
    "l_iter = iter([1, 2, 3])\n",
    "l_iter"
   ]
  },
  {
   "cell_type": "code",
   "execution_count": 24,
   "id": "9dc2bd36-4067-480c-a51e-82f09b22eb73",
   "metadata": {},
   "outputs": [
    {
     "data": {
      "text/plain": [
       "<method-wrapper '__next__' of list_iterator object at 0x7f67a8cd5a30>"
      ]
     },
     "execution_count": 24,
     "metadata": {},
     "output_type": "execute_result"
    }
   ],
   "source": [
    "l_iter.__next__"
   ]
  },
  {
   "cell_type": "code",
   "execution_count": 26,
   "id": "08c29b63-3816-4bef-8ca9-5ce07c2260fa",
   "metadata": {},
   "outputs": [],
   "source": [
    "import csv"
   ]
  },
  {
   "cell_type": "code",
   "execution_count": 30,
   "id": "ae366220-af1c-46d7-8190-23793c8a4631",
   "metadata": {},
   "outputs": [
    {
     "name": "stdout",
     "output_type": "stream",
     "text": [
      "1\n",
      "2\n",
      "3\n"
     ]
    }
   ],
   "source": [
    "\n",
    "class MiIterator:\n",
    "    def __init__(self, values):\n",
    "        self.values = iter(values)\n",
    "    \n",
    "    def __next__(self):\n",
    "        \n",
    "        return next(self.values)\n",
    "        \n",
    "    def __iter__(self):\n",
    "        return self\n",
    "        \n",
    "mi_iter = MiIterator([1,2,3])\n",
    "for elemento in mi_iter:\n",
    "    print(elemento)\n"
   ]
  },
  {
   "cell_type": "markdown",
   "id": "5dfdec91-165c-4bf2-9903-12f2d4698e34",
   "metadata": {},
   "source": [
    "## Operator overriding"
   ]
  },
  {
   "cell_type": "code",
   "execution_count": 31,
   "id": "bd362008-8e87-4213-ac90-9d57bd055066",
   "metadata": {},
   "outputs": [
    {
     "data": {
      "text/plain": [
       "'holamuchachos'"
      ]
     },
     "execution_count": 31,
     "metadata": {},
     "output_type": "execute_result"
    }
   ],
   "source": [
    "\"hola\" + \"muchachos\""
   ]
  },
  {
   "cell_type": "code",
   "execution_count": 32,
   "id": "f44d7a51-152b-4fb4-8208-16d19aeb6d32",
   "metadata": {},
   "outputs": [
    {
     "data": {
      "text/plain": [
       "'holamuchachos'"
      ]
     },
     "execution_count": 32,
     "metadata": {},
     "output_type": "execute_result"
    }
   ],
   "source": [
    "str1 = \"hola\"\n",
    "str1.__add__(\"muchachos\")"
   ]
  },
  {
   "cell_type": "code",
   "execution_count": 33,
   "id": "8e335578-d729-47dc-8951-2deefad099aa",
   "metadata": {},
   "outputs": [
    {
     "data": {
      "text/plain": [
       "'holaholahola'"
      ]
     },
     "execution_count": 33,
     "metadata": {},
     "output_type": "execute_result"
    }
   ],
   "source": [
    "str1 * 3"
   ]
  },
  {
   "cell_type": "code",
   "execution_count": null,
   "id": "19a8bdff-6380-47f9-a640-7f15575483a5",
   "metadata": {},
   "outputs": [],
   "source": [
    "str1.__mu"
   ]
  },
  {
   "cell_type": "code",
   "execution_count": 59,
   "id": "d6bfc622-f1a6-493f-97b6-593363f808e9",
   "metadata": {},
   "outputs": [
    {
     "data": {
      "text/plain": [
       "('a + b', [(3, 'sku1'), (1, 'sku2'), (1, 'sku3'), (4, 'sku4'), (1, 'sku1')])"
      ]
     },
     "execution_count": 59,
     "metadata": {},
     "output_type": "execute_result"
    }
   ],
   "source": [
    "class Order:\n",
    "    \n",
    "    def __init__(self, number, lis):\n",
    "        self.number = number\n",
    "        self.lis = lis\n",
    "        \n",
    "    def __add__(self, other):\n",
    "        return Order(f\"{self.number} + {other.number}\", self.lis + other.lis)\n",
    "\n",
    "    def __mul__(self, other):\n",
    "        return Order(f\"{other}x {self.number}\", self.lis * other)\n",
    "    \n",
    "    def __rmul__(self, other):\n",
    "        print(\"me llamaron de carambola\")\n",
    "        return self * other\n",
    "    \n",
    "    def __repr__(self):\n",
    "        return f\"Order({self.number}, {self.lis})\"\n",
    "merged_order = Order(\"a\", [(3, \"sku1\"), (1, \"sku2\")]) + Order(\"b\", [(1, \"sku3\"), (4, \"sku4\"), (1, \"sku1\")])\n",
    "merged_order.number, merged_order.lis\n",
    "\n",
    "\n"
   ]
  },
  {
   "cell_type": "code",
   "execution_count": 54,
   "id": "0ddf72ad-4e38-43e9-a390-01111dbd1978",
   "metadata": {},
   "outputs": [
    {
     "data": {
      "text/plain": [
       "Order(2x a, [(3, 'sku1'), (1, 'sku2'), (3, 'sku1'), (1, 'sku2')])"
      ]
     },
     "execution_count": 54,
     "metadata": {},
     "output_type": "execute_result"
    }
   ],
   "source": [
    "order = Order(\"a\", [(3, \"sku1\"), (1, \"sku2\")])\n",
    "multiplied_order = order * 2\n",
    "\n",
    "multiplied_order"
   ]
  },
  {
   "cell_type": "code",
   "execution_count": 57,
   "id": "2e506f38-9867-44c2-a5e0-b28f30b36aef",
   "metadata": {},
   "outputs": [
    {
     "data": {
      "text/plain": [
       "Order(2x a, [(3, 'sku1'), (1, 'sku2'), (3, 'sku1'), (1, 'sku2')])"
      ]
     },
     "execution_count": 57,
     "metadata": {},
     "output_type": "execute_result"
    }
   ],
   "source": [
    "order =  Order(\"a\", [(3, \"sku1\"), (1, \"sku2\")])\n",
    "order.__mul__(2)"
   ]
  },
  {
   "cell_type": "code",
   "execution_count": 58,
   "id": "d4259267-331a-4186-88be-4d1ad7725c1c",
   "metadata": {},
   "outputs": [
    {
     "data": {
      "text/plain": [
       "NotImplemented"
      ]
     },
     "execution_count": 58,
     "metadata": {},
     "output_type": "execute_result"
    }
   ],
   "source": [
    "dos = 2\n",
    "dos.__mul__(order)"
   ]
  },
  {
   "cell_type": "code",
   "execution_count": 60,
   "id": "b5bcb928-d175-4ec6-9363-64267618d991",
   "metadata": {},
   "outputs": [
    {
     "data": {
      "text/plain": [
       "True"
      ]
     },
     "execution_count": 60,
     "metadata": {},
     "output_type": "execute_result"
    }
   ],
   "source": [
    "3.0 * 2  == 2 * 3.0"
   ]
  },
  {
   "cell_type": "code",
   "execution_count": 61,
   "id": "6afd0951-764f-43ab-a253-14498224a25d",
   "metadata": {},
   "outputs": [
    {
     "data": {
      "text/plain": [
       "True"
      ]
     },
     "execution_count": 61,
     "metadata": {},
     "output_type": "execute_result"
    }
   ],
   "source": [
    "\"hola\" * 2 == 2 * \"hola\""
   ]
  },
  {
   "cell_type": "code",
   "execution_count": 55,
   "id": "a506b706-2045-4632-810d-3c0f5be64e93",
   "metadata": {},
   "outputs": [
    {
     "name": "stdout",
     "output_type": "stream",
     "text": [
      "me llamaron de carambola\n"
     ]
    },
    {
     "data": {
      "text/plain": [
       "Order(2x a, [(3, 'sku1'), (1, 'sku2'), (3, 'sku1'), (1, 'sku2')])"
      ]
     },
     "execution_count": 55,
     "metadata": {},
     "output_type": "execute_result"
    }
   ],
   "source": [
    "2 * order"
   ]
  },
  {
   "cell_type": "code",
   "execution_count": 62,
   "id": "c6caa88f-8461-40ad-8ec5-4e7f77db8688",
   "metadata": {},
   "outputs": [
    {
     "data": {
      "text/plain": [
       "3"
      ]
     },
     "execution_count": 62,
     "metadata": {},
     "output_type": "execute_result"
    }
   ],
   "source": [
    "class Order:\n",
    "    \n",
    "    def __init__(self, number, lis):\n",
    "        self.number = number\n",
    "        self.lis = lis\n",
    "        \n",
    "    def __len__(self):\n",
    "        return len(self.lis)\n",
    "    \n",
    "\n",
    "order = Order(\"a\", [1, 3, 4])\n",
    "len(order)"
   ]
  },
  {
   "cell_type": "markdown",
   "id": "87cd3f6d-ab31-468a-9eed-fc6e30a6cd50",
   "metadata": {},
   "source": [
    "## Decorators\n"
   ]
  },
  {
   "cell_type": "code",
   "execution_count": 92,
   "id": "f9891fe7-0156-419b-98e4-6d7af8e88b2d",
   "metadata": {},
   "outputs": [],
   "source": [
    "\n",
    "def wrapper(f):\n",
    "    def _f():\n",
    "        print(f\"Hola, estás llamando a {f.__name__}\")\n",
    "        return f()\n",
    "    _f.__doc__ = f.__doc__\n",
    "    return _f\n",
    "    \n",
    "\n",
    "# wrapper(una_func)()\n"
   ]
  },
  {
   "cell_type": "code",
   "execution_count": 93,
   "id": "ef7320a2-35e0-466b-a847-34c1aa29a394",
   "metadata": {},
   "outputs": [],
   "source": [
    "@wrapper\n",
    "def una_func():\n",
    "    \"hola, soy una func\"\n",
    "    return 42"
   ]
  },
  {
   "cell_type": "code",
   "execution_count": 94,
   "id": "5d58d956-60c8-4eee-a1c3-c1845acd2f97",
   "metadata": {},
   "outputs": [
    {
     "data": {
      "text/plain": [
       "\u001b[0;31mSignature:\u001b[0m \u001b[0muna_func\u001b[0m\u001b[0;34m(\u001b[0m\u001b[0;34m)\u001b[0m\u001b[0;34m\u001b[0m\u001b[0;34m\u001b[0m\u001b[0m\n",
       "\u001b[0;31mDocstring:\u001b[0m hola, soy una func\n",
       "\u001b[0;31mFile:\u001b[0m      /tmp/ipykernel_594315/3120859965.py\n",
       "\u001b[0;31mType:\u001b[0m      function\n"
      ]
     },
     "metadata": {},
     "output_type": "display_data"
    }
   ],
   "source": [
    "una_func?"
   ]
  },
  {
   "cell_type": "code",
   "execution_count": 88,
   "id": "853f2a29-5e91-45ed-bfae-60f7332cbc28",
   "metadata": {},
   "outputs": [
    {
     "data": {
      "text/plain": [
       "\u001b[0;31mSignature:\u001b[0m \u001b[0muna_func\u001b[0m\u001b[0;34m(\u001b[0m\u001b[0;34m)\u001b[0m\u001b[0;34m\u001b[0m\u001b[0;34m\u001b[0m\u001b[0m\n",
       "\u001b[0;31mDocstring:\u001b[0m hola, soy una func\n",
       "\u001b[0;31mFile:\u001b[0m      /tmp/ipykernel_594315/2362138602.py\n",
       "\u001b[0;31mType:\u001b[0m      function\n"
      ]
     },
     "metadata": {},
     "output_type": "display_data"
    }
   ],
   "source": [
    "una_func?"
   ]
  },
  {
   "cell_type": "markdown",
   "id": "dd7d534f-eb74-461e-9a6e-f266ac92a5b6",
   "metadata": {},
   "source": [
    "## Dataclasses\n"
   ]
  },
  {
   "cell_type": "code",
   "execution_count": 95,
   "id": "4f66f616-c8a3-44ef-bf49-015b88ca35e1",
   "metadata": {},
   "outputs": [],
   "source": [
    "from dataclasses import dataclass"
   ]
  },
  {
   "cell_type": "code",
   "execution_count": 125,
   "id": "1498685f-9981-4670-a52b-9adea6938a30",
   "metadata": {},
   "outputs": [],
   "source": [
    "from typing import List\n",
    "\n",
    "\n",
    "@dataclass(repr=True)\n",
    "class LineItem:\n",
    "    sku: str\n",
    "    quantity: int\n",
    "\n",
    "@dataclass\n",
    "class Order:\n",
    "    \n",
    "    name: str\n",
    "    line_items: List[LineItem]\n",
    "    owner: str = \"Martin\"\n",
    "    \n",
    "    def __post_init__(self):\n",
    "        print(\"llamado post_init\")\n",
    "        if len(self.line_items) == 0:\n",
    "            raise ValueError(\"An order can't be empty\") \n",
    "        \n",
    "        if self.owner == \"tin\":\n",
    "            self.owner = \"martin\"\n",
    "    "
   ]
  },
  {
   "cell_type": "code",
   "execution_count": 105,
   "id": "a3d0b52c-53a8-4ff8-a582-54fd5531cc56",
   "metadata": {},
   "outputs": [
    {
     "data": {
      "text/plain": [
       "Order(name='XYZ', line_items=[<__main__.LineItem object at 0x7f678ffce070>])"
      ]
     },
     "execution_count": 105,
     "metadata": {},
     "output_type": "execute_result"
    }
   ],
   "source": [
    "order = Order(name=\"XYZ\", line_items=[LineItem(sku=\"a\", quantity=3)])\n",
    "order"
   ]
  },
  {
   "cell_type": "code",
   "execution_count": 110,
   "id": "eb73e8e0-b8df-463e-99a3-fb1f9f93c7f9",
   "metadata": {},
   "outputs": [],
   "source": [
    "def get_vector() -> tuple:\n",
    "    return (42, \"izquierda\")   # distancia, direccion\n",
    "\n",
    "from collections import namedtuple\n",
    "\n",
    "Vector = namedtuple(\"Vector\", \"distancia, direccion\")\n",
    "\n",
    "def get_vector2() -> tuple:\n",
    "    return Vector(42, \"izquierda\")   # distancia, direccion\n",
    "\n"
   ]
  },
  {
   "cell_type": "code",
   "execution_count": 113,
   "id": "91c739d5-1435-41d9-9cad-b0c9c6d0dd13",
   "metadata": {},
   "outputs": [
    {
     "data": {
      "text/plain": [
       "Vector(distancia=42, direccion='izquierda')"
      ]
     },
     "execution_count": 113,
     "metadata": {},
     "output_type": "execute_result"
    }
   ],
   "source": [
    "vec = get_vector2()\n",
    "vec"
   ]
  },
  {
   "cell_type": "code",
   "execution_count": 118,
   "id": "2e1e82e2-524c-452f-a98e-4dfa8bec80d9",
   "metadata": {},
   "outputs": [
    {
     "data": {
      "text/plain": [
       "'izquierda'"
      ]
     },
     "execution_count": 118,
     "metadata": {},
     "output_type": "execute_result"
    }
   ],
   "source": [
    "vec.direccion"
   ]
  },
  {
   "cell_type": "code",
   "execution_count": 122,
   "id": "5133a331-0885-4a52-8d49-5c96dc40eb60",
   "metadata": {},
   "outputs": [
    {
     "name": "stdout",
     "output_type": "stream",
     "text": [
      "llamado post_init\n"
     ]
    },
    {
     "ename": "ValueError",
     "evalue": "An order can't be empty",
     "output_type": "error",
     "traceback": [
      "\u001b[0;31m---------------------------------------------------------------------------\u001b[0m",
      "\u001b[0;31mValueError\u001b[0m                                Traceback (most recent call last)",
      "Input \u001b[0;32mIn [122]\u001b[0m, in \u001b[0;36m<module>\u001b[0;34m\u001b[0m\n\u001b[0;32m----> 1\u001b[0m \u001b[43mOrder\u001b[49m\u001b[43m(\u001b[49m\u001b[43mname\u001b[49m\u001b[38;5;241;43m=\u001b[39;49m\u001b[38;5;241;43m3\u001b[39;49m\u001b[43m,\u001b[49m\u001b[43m \u001b[49m\u001b[43mline_items\u001b[49m\u001b[38;5;241;43m=\u001b[39;49m\u001b[43m[\u001b[49m\u001b[43m]\u001b[49m\u001b[43m)\u001b[49m\n",
      "File \u001b[0;32m<string>:6\u001b[0m, in \u001b[0;36m__init__\u001b[0;34m(self, name, line_items, owner)\u001b[0m\n",
      "Input \u001b[0;32mIn [121]\u001b[0m, in \u001b[0;36mOrder.__post_init__\u001b[0;34m(self)\u001b[0m\n\u001b[1;32m     17\u001b[0m \u001b[38;5;28mprint\u001b[39m(\u001b[38;5;124m\"\u001b[39m\u001b[38;5;124mllamado post_init\u001b[39m\u001b[38;5;124m\"\u001b[39m)\n\u001b[1;32m     18\u001b[0m \u001b[38;5;28;01mif\u001b[39;00m \u001b[38;5;28mlen\u001b[39m(\u001b[38;5;28mself\u001b[39m\u001b[38;5;241m.\u001b[39mline_items) \u001b[38;5;241m==\u001b[39m \u001b[38;5;241m0\u001b[39m:\n\u001b[0;32m---> 19\u001b[0m     \u001b[38;5;28;01mraise\u001b[39;00m \u001b[38;5;167;01mValueError\u001b[39;00m(\u001b[38;5;124m\"\u001b[39m\u001b[38;5;124mAn order can\u001b[39m\u001b[38;5;124m'\u001b[39m\u001b[38;5;124mt be empty\u001b[39m\u001b[38;5;124m\"\u001b[39m)\n",
      "\u001b[0;31mValueError\u001b[0m: An order can't be empty"
     ]
    }
   ],
   "source": [
    "Order(name=3, line_items=[])"
   ]
  },
  {
   "cell_type": "code",
   "execution_count": 126,
   "id": "5a237bc2-b6e2-4c7a-baf2-95dda64bbf48",
   "metadata": {},
   "outputs": [
    {
     "name": "stdout",
     "output_type": "stream",
     "text": [
      "llamado post_init\n"
     ]
    },
    {
     "data": {
      "text/plain": [
       "Order(name=3, line_items=[1], owner='martin')"
      ]
     },
     "execution_count": 126,
     "metadata": {},
     "output_type": "execute_result"
    }
   ],
   "source": [
    "Order(name=3, line_items=[1], owner=\"tin\")"
   ]
  },
  {
   "cell_type": "code",
   "execution_count": 15,
   "id": "024ce410-73eb-4c91-98c7-ca851d1d996c",
   "metadata": {},
   "outputs": [],
   "source": [
    "from typing import Iterable, Iterator"
   ]
  },
  {
   "cell_type": "markdown",
   "id": "f5146535-ede6-40f6-9aac-82049d3aace5",
   "metadata": {},
   "source": [
    "## Properties, \n",
    "\n",
    "\n"
   ]
  },
  {
   "cell_type": "code",
   "execution_count": 169,
   "id": "4be9c04e-e042-4289-bd25-d3bbdf0a5bc8",
   "metadata": {},
   "outputs": [],
   "source": [
    "class Student:\n",
    "    \n",
    "    def __init__(self, name,bt):\n",
    "        self.name = name\n",
    "        self.bt = bt\n",
    "         \n",
    "        \n",
    "    @property\n",
    "    def edad(self):\n",
    "        return round((date.today() - self.bt).days / 365)\n",
    "        \n",
    "    @edad.setter\n",
    "    def edad(self, nueva_edad):\n",
    "        self.bt = date.today() - timedelta(days=nueva_edad * 365)"
   ]
  },
  {
   "cell_type": "code",
   "execution_count": 146,
   "id": "b8e44d6d-3f62-433c-bfdc-4f558d262745",
   "metadata": {},
   "outputs": [],
   "source": [
    "from datetime import date, timedelta"
   ]
  },
  {
   "cell_type": "code",
   "execution_count": null,
   "id": "4f348df8-305c-46e7-bb02-51bd46d5f35f",
   "metadata": {},
   "outputs": [],
   "source": [
    "timedelta.days"
   ]
  },
  {
   "cell_type": "code",
   "execution_count": 170,
   "id": "b84b019b-9e0e-4862-a000-a926e3dc3330",
   "metadata": {},
   "outputs": [
    {
     "data": {
      "text/plain": [
       "40"
      ]
     },
     "execution_count": 170,
     "metadata": {},
     "output_type": "execute_result"
    }
   ],
   "source": [
    "s = Student(\"martin\", date(1982, 3, 22))\n",
    "s.edad"
   ]
  },
  {
   "cell_type": "code",
   "execution_count": 171,
   "id": "bca1aff6-7d0f-4dac-96ed-ac217b1c6726",
   "metadata": {},
   "outputs": [],
   "source": [
    "s.edad = 35"
   ]
  },
  {
   "cell_type": "markdown",
   "id": "2d706747-dc6c-4570-894c-81785c9981bc",
   "metadata": {},
   "source": [
    "# Descriptors"
   ]
  },
  {
   "cell_type": "code",
   "execution_count": 177,
   "id": "e61f743a-76d7-4821-8efc-2441d5363422",
   "metadata": {},
   "outputs": [],
   "source": [
    "class Column:\n",
    "    \n",
    "    \n",
    "    def __get__(self, owner, objtype=None):\n",
    "        return getattr(self, \"_cache\", 42) \n",
    "    \n",
    "    def __set__(self, owner, value):\n",
    "        self._cache = value\n",
    "\n",
    "\n",
    "class Modelo:\n",
    "    name = Column()\n"
   ]
  },
  {
   "cell_type": "code",
   "execution_count": 178,
   "id": "614ca29b-58dd-40e7-9466-32c8d68d4680",
   "metadata": {},
   "outputs": [
    {
     "data": {
      "text/plain": [
       "42"
      ]
     },
     "execution_count": 178,
     "metadata": {},
     "output_type": "execute_result"
    }
   ],
   "source": [
    "m = Modelo()\n",
    "m.name"
   ]
  },
  {
   "cell_type": "code",
   "execution_count": 179,
   "id": "58913cd7-b5c8-449b-b3fa-89499315245d",
   "metadata": {},
   "outputs": [],
   "source": [
    "m.name = 54"
   ]
  },
  {
   "cell_type": "code",
   "execution_count": 180,
   "id": "dcc7f431-bbbf-47f0-b3c4-8f97be55e1d1",
   "metadata": {},
   "outputs": [
    {
     "data": {
      "text/plain": [
       "54"
      ]
     },
     "execution_count": 180,
     "metadata": {},
     "output_type": "execute_result"
    }
   ],
   "source": [
    "m.name"
   ]
  },
  {
   "cell_type": "code",
   "execution_count": null,
   "id": "84ec76f6-ad82-4a68-8aec-dd1c6638c5a8",
   "metadata": {},
   "outputs": [],
   "source": []
  }
 ],
 "metadata": {
  "kernelspec": {
   "display_name": "Python 3 (ipykernel)",
   "language": "python",
   "name": "python3"
  },
  "language_info": {
   "codemirror_mode": {
    "name": "ipython",
    "version": 3
   },
   "file_extension": ".py",
   "mimetype": "text/x-python",
   "name": "python",
   "nbconvert_exporter": "python",
   "pygments_lexer": "ipython3",
   "version": "3.9.5"
  }
 },
 "nbformat": 4,
 "nbformat_minor": 5
}
