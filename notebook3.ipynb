{
 "cells": [
  {
   "cell_type": "markdown",
   "id": "d35b2565",
   "metadata": {},
   "source": [
    "# Introducción a Python para ciencias e ingenierías (notebook 3)\n",
    "\n",
    "\n",
    "Ing. Martín Gaitán \n",
    "\n",
    "\n",
    "**Links útiles**\n",
    "\n",
    "Repositorio del curso:\n",
    "\n",
    "### http://bit.ly/cursopy\n",
    "\n",
    "Python \"temporal\" online: \n",
    "\n",
    "### http://try.jupyter.org\n",
    "\n",
    "- Descarga de [Python \"Anaconda\"](http://continuum.io/downloads#py34)\n",
    "- Resumen de [sintaxis markdown](https://github.com/jupyter/strata-sv-2015-tutorial/blob/master/resources/Working%20With%20Markdown%20Cells.ipynb)\n",
    "\n",
    "\n",
    "--------\n",
    "\n",
    "\n"
   ]
  },
  {
   "cell_type": "markdown",
   "id": "8069c9e2",
   "metadata": {},
   "source": [
    "## Yapita de excepciones: enmascaramiento  \n",
    "  \n"
   ]
  },
  {
   "cell_type": "code",
   "execution_count": null,
   "id": "bebce7a9",
   "metadata": {},
   "outputs": [],
   "source": [
    "class CarrierError(ValueError):\n",
    "    pass\n",
    "\n",
    "def f(arg):\n",
    "    \n",
    "    try:\n",
    "        return 1/arg\n",
    "    except ZeroDivisionError as e:\n",
    "        raise CarrierError(f\"ese valor no es valido {arg}\") from e\n"
   ]
  },
  {
   "cell_type": "code",
   "execution_count": null,
   "id": "1520b98e",
   "metadata": {},
   "outputs": [],
   "source": [
    "f(0)"
   ]
  },
  {
   "cell_type": "markdown",
   "id": "51f128c7",
   "metadata": {},
   "source": [
    "## Programación Orientada a Objetos, una brevísima introducción\n",
    "\n",
    "No vamos a entrar en detalles sobre qué es la famosísima \"programación orientada a objetos\". Simplemente es una buena manera de estructurar código para repetirse menos y \"encapsular\" datos (conservar estados) y sus comportamientos relacionados. Por ejemplo, cuando muchas funciones que reciben el mismo conjunto de parámetros, es un buen candidado a reescribirlo como una clase.\n"
   ]
  },
  {
   "cell_type": "code",
   "execution_count": null,
   "id": "61229d77",
   "metadata": {
    "lines_to_next_cell": 2,
    "tags": []
   },
   "outputs": [],
   "source": [
    "class Rectangulo:\n",
    "    def __init__(self, base, altura):\n",
    "        self.base = base\n",
    "        self.altura = altura\n",
    "\n",
    "    # el primer parámetro de cada metodo de la clase se llama self\n",
    "    # y hace referencia \"al propio\" objeto, desde donde se puede consultar/modificar\n",
    "    # el estado de sus atributos o llamar a otros métodos\n",
    "    def area(self):\n",
    "        return self.base * self.altura\n",
    "\n",
    "    def perimetro(self):\n",
    "        return (self.base + self.altura) * 2\n",
    "\n",
    "    def pintar_color(self, color=\"azul\"):\n",
    "        print(f\"tu rectangulo en la posicion de memoria {id(self)} ahora es {color}\")\n"
   ]
  },
  {
   "cell_type": "markdown",
   "id": "4a5bced9",
   "metadata": {},
   "source": [
    "Listo, ya definimos una clase Rectangulo con la que podemos \"fabricar\" (instanciar) objetos este tipo, dando los parámetros que son requeridos por el método inicilizador `__init__`. Se hace directamente \"llamando a la clase\""
   ]
  },
  {
   "cell_type": "code",
   "execution_count": null,
   "id": "e871cd5a",
   "metadata": {
    "tags": []
   },
   "outputs": [],
   "source": [
    "rectangulo2x4 = Rectangulo(base=2, altura=4)"
   ]
  },
  {
   "cell_type": "code",
   "execution_count": null,
   "id": "438c3763",
   "metadata": {},
   "outputs": [],
   "source": [
    "rectangulo2x4"
   ]
  },
  {
   "cell_type": "code",
   "execution_count": null,
   "id": "6077cc2a",
   "metadata": {},
   "outputs": [],
   "source": [
    "rectangulo2x4.base, rectangulo2x4.altura"
   ]
  },
  {
   "cell_type": "code",
   "execution_count": null,
   "id": "57952081",
   "metadata": {},
   "outputs": [],
   "source": [
    "rectangulo2x4.area()"
   ]
  },
  {
   "cell_type": "code",
   "execution_count": null,
   "id": "49d4e93b",
   "metadata": {},
   "outputs": [],
   "source": [
    "rectangulo2x4.pintar_color(\"rojo\")"
   ]
  },
  {
   "cell_type": "code",
   "execution_count": null,
   "id": "4ac0b1b5",
   "metadata": {},
   "outputs": [],
   "source": [
    "rectangulo2x4.base  = 2\n",
    "rectangulo2x4.area()"
   ]
  },
  {
   "cell_type": "code",
   "execution_count": null,
   "id": "1b75d5f6",
   "metadata": {},
   "outputs": [],
   "source": [
    "type(rectangulo2x4)"
   ]
  },
  {
   "cell_type": "markdown",
   "id": "f9a659d1",
   "metadata": {},
   "source": [
    "Una vez definido la instancia podemos utilizar sus métodos. "
   ]
  },
  {
   "cell_type": "code",
   "execution_count": null,
   "id": "5e939be3",
   "metadata": {},
   "outputs": [],
   "source": []
  },
  {
   "cell_type": "code",
   "execution_count": null,
   "id": "d7194147",
   "metadata": {},
   "outputs": [],
   "source": [
    "rectangulo2x4.area()      # BIEN ! "
   ]
  },
  {
   "cell_type": "code",
   "execution_count": null,
   "id": "5ad94d84",
   "metadata": {},
   "outputs": [],
   "source": [
    "Rectangulo.area(rectangulo2x4)  # MAL! "
   ]
  },
  {
   "cell_type": "code",
   "execution_count": null,
   "id": "7bf3b4a5",
   "metadata": {},
   "outputs": [],
   "source": [
    "rectangulo2x4.perimetro()"
   ]
  },
  {
   "cell_type": "markdown",
   "id": "f824eb19",
   "metadata": {},
   "source": [
    "Siempre es bueno definir el método especial `__str__`, que es el que dice como 'castear' nuestro objeto a un string. De otra manera, la función `print` o la representación de salida interactiva no son muy útiles\n"
   ]
  },
  {
   "cell_type": "code",
   "execution_count": null,
   "id": "9b1a4da9",
   "metadata": {},
   "outputs": [],
   "source": [
    "print(rectangulo2x4)\n",
    "rectangulo2x4"
   ]
  },
  {
   "cell_type": "markdown",
   "id": "d87ec336",
   "metadata": {},
   "source": [
    "Redefinamos la clase Rectángulo\n",
    "\n"
   ]
  },
  {
   "cell_type": "code",
   "execution_count": null,
   "id": "df10275d",
   "metadata": {
    "tags": []
   },
   "outputs": [],
   "source": [
    "class Rectangulo:\n",
    "    def __init__(self, base, altura):\n",
    "        self.base = base\n",
    "        self.altura = altura\n",
    "\n",
    "    def area(self):\n",
    "        return self.base * self.altura\n",
    "\n",
    "    def perimetro(self):\n",
    "        return (self.base + self.altura) * 2\n",
    "\n",
    "    def volumen(self, profundidad):\n",
    "        return self.area() * profundidad\n",
    "    \n",
    "    def __str__(self):        \n",
    "        return f\"{type(self).__name__} de {self.base} x {self.altura}\"\n",
    "    \n",
    "    def __repr__(self):        \n",
    "        return f\"{type(self).__name__}({self.base}, {self.altura})\""
   ]
  },
  {
   "cell_type": "code",
   "execution_count": null,
   "id": "eae04d20",
   "metadata": {},
   "outputs": [],
   "source": [
    "r = Rectangulo(3, 4)\n",
    "print(r)"
   ]
  },
  {
   "cell_type": "code",
   "execution_count": null,
   "id": "c7335223",
   "metadata": {},
   "outputs": [],
   "source": []
  },
  {
   "cell_type": "code",
   "execution_count": null,
   "id": "c1880a65",
   "metadata": {},
   "outputs": [],
   "source": [
    "Rectangulo(3, 4)"
   ]
  },
  {
   "cell_type": "code",
   "execution_count": null,
   "id": "95e3f44d",
   "metadata": {},
   "outputs": [],
   "source": [
    "d = {\"hola\": [1, 2, 3], }\n",
    "d"
   ]
  },
  {
   "cell_type": "markdown",
   "id": "40e676d2",
   "metadata": {},
   "source": [
    "### Herencia\n",
    "\n",
    "Un cuadrado es un tipo especial de rectángulo, donde base == altura. En vez de escribir una clase casi igual, hagamos una **herencia**\n",
    "\n"
   ]
  },
  {
   "cell_type": "code",
   "execution_count": null,
   "id": "b093d2dc",
   "metadata": {
    "tags": []
   },
   "outputs": [],
   "source": [
    "\n",
    "class Cuadrado(Rectangulo): # cuadrado es una subclase de rectángulo.\n",
    "    def __init__(self, lado):\n",
    "        \n",
    "        # igualito a papá rectángulo\n",
    "        super().__init__(base=lado, altura=lado) \n",
    "        #self.base = lado\n",
    "        #self.altura = lado\n"
   ]
  },
  {
   "cell_type": "markdown",
   "id": "38059528",
   "metadata": {},
   "source": [
    "Lo que hicimos en este caso es hacer una \"subclase\" que hereda todo los métodos de la \"clase padre\" y le redefinimos el método inicializador\n",
    "\n",
    "Una subclase no sólo puede redefinir el inicializador, sino cualquier método. \n",
    "\n"
   ]
  },
  {
   "cell_type": "code",
   "execution_count": null,
   "id": "a4cce378",
   "metadata": {},
   "outputs": [],
   "source": [
    "cuadrado = Cuadrado(2)\n",
    "cuadrado.perimetro()"
   ]
  },
  {
   "cell_type": "code",
   "execution_count": null,
   "id": "33da726e",
   "metadata": {},
   "outputs": [],
   "source": [
    "cuadrado.base, cuadrado.altura"
   ]
  },
  {
   "cell_type": "code",
   "execution_count": null,
   "id": "dcd57ba5",
   "metadata": {},
   "outputs": [],
   "source": [
    "cuadrado.area()"
   ]
  },
  {
   "cell_type": "code",
   "execution_count": null,
   "id": "3bdeeb0c",
   "metadata": {
    "lines_to_next_cell": 2
   },
   "outputs": [],
   "source": [
    "print(cuadrado)"
   ]
  },
  {
   "cell_type": "markdown",
   "id": "71d1763a",
   "metadata": {},
   "source": [
    "En python no sólo podemos reusar código \"verticalmente\" (herencia simple). Podemos incorporar \"comportamientos\" de multiples clases padre (herencia múltiple). Esto es lo que se conoce como el patrón \"Mixin\".\n",
    "\n"
   ]
  },
  {
   "cell_type": "code",
   "execution_count": null,
   "id": "75b55e86",
   "metadata": {
    "tags": []
   },
   "outputs": [],
   "source": [
    "\n",
    "class OVNI:  # acá fue cuando me fumé \n",
    "    \n",
    "    def volar(self):\n",
    "        print(f\"Soy un {self} y estoy volando!\")\n",
    "        return 42\n",
    "    \n",
    "    \n",
    "class CuadradoVolador(Cuadrado, OVNI):\n",
    "    ...\n",
    "\n"
   ]
  },
  {
   "cell_type": "code",
   "execution_count": null,
   "id": "a18a7bea",
   "metadata": {},
   "outputs": [],
   "source": [
    "mi_cuadrado_volador = CuadradoVolador(4)\n",
    "mi_cuadrado_volador.area()\n"
   ]
  },
  {
   "cell_type": "code",
   "execution_count": null,
   "id": "ef4f36a7",
   "metadata": {
    "lines_to_next_cell": 2
   },
   "outputs": [],
   "source": [
    "mi_cuadrado_volador.volar()"
   ]
  },
  {
   "cell_type": "markdown",
   "id": "55609e28",
   "metadata": {},
   "source": [
    "Podriamos necesitar, por algun motivo esotérico digno de Capilla del Monte, \n",
    "un tipo especial CuadradoVolador que \"vuele\" de otra manera. Simplemente heredamos y reescribimos (o extendemos usando la función `super()`\n"
   ]
  },
  {
   "cell_type": "code",
   "execution_count": null,
   "id": "c738a039",
   "metadata": {
    "tags": []
   },
   "outputs": [],
   "source": [
    "class CuadradoVoladorSupersonico(CuadradoVolador):\n",
    "\n",
    "    def volar(self): # esto se llama \"sobrecargar método\"\n",
    "        valor = super().volar()\n",
    "        print(f\"y estoy volando supersónicamente a {valor} metros!\")\n",
    "\n",
    "\n",
    "supersonico = CuadradoVoladorSupersonico(2)"
   ]
  },
  {
   "cell_type": "code",
   "execution_count": null,
   "id": "3e1df794",
   "metadata": {},
   "outputs": [],
   "source": [
    "supersonico.volar()"
   ]
  },
  {
   "cell_type": "code",
   "execution_count": null,
   "id": "b678ad55",
   "metadata": {},
   "outputs": [],
   "source": [
    "type(supersonico).__mro__"
   ]
  },
  {
   "cell_type": "markdown",
   "id": "084cf2f9",
   "metadata": {},
   "source": [
    "###  Ejercicios\n",
    "\n",
    "1. Defina una clase `Estudiante` con atributos `nombre` y `año_ingreso`. Defina un método que devuelva la cantidad de años que lleva de cursado hasta el 2015. Luego redefina el método como `__len__` y utilice la función `len()` con la instancia.\n",
    "\n",
    "2. Defina una clase `Linear` que recibe parámetros a, b y un método que calcula ecuación $ax + b$. Redefina ese método como el método especial `__call__` e intente llamar a la instancia como una función.\n",
    "\n",
    "3. Herede de la clase `Linear` una subclase `Exponencial` que calcula $ax^b$.\n",
    "\n",
    "\n",
    "<!-- https://gist.githubusercontent.com/mgaitan/68f072b0243e0c85e85a/raw/9830ddc624c752e2ef661ac0db41355b4fb1514a/clases.py -->\n",
    "\n"
   ]
  },
  {
   "cell_type": "code",
   "execution_count": null,
   "id": "bff45fbc",
   "metadata": {},
   "outputs": [],
   "source": [
    "class Lineal:\n",
    "    def __init__(self, a, b):\n",
    "        self.a = a\n",
    "        self.b = b\n",
    "        \n",
    "    def __call__(self, x):\n",
    "        return self.a*x + self.b\n",
    "\n",
    "\n",
    "f1 = Lineal(1, 2)\n",
    "#f1.calcular(2)\n"
   ]
  },
  {
   "cell_type": "code",
   "execution_count": null,
   "id": "732f5955",
   "metadata": {},
   "outputs": [],
   "source": [
    "f1(2)"
   ]
  },
  {
   "cell_type": "code",
   "execution_count": null,
   "id": "4b0ba329",
   "metadata": {},
   "outputs": [],
   "source": [
    "f1.a, f1.b"
   ]
  },
  {
   "cell_type": "code",
   "execution_count": null,
   "id": "b9543ec1",
   "metadata": {},
   "outputs": [],
   "source": [
    "callable(f1)"
   ]
  },
  {
   "cell_type": "code",
   "execution_count": null,
   "id": "b99470f0",
   "metadata": {},
   "outputs": [],
   "source": [
    "f1()"
   ]
  },
  {
   "cell_type": "code",
   "execution_count": null,
   "id": "fdc0005c",
   "metadata": {},
   "outputs": [],
   "source": [
    "def g():\n",
    "    pass\n",
    "\n",
    "callable(g)"
   ]
  },
  {
   "cell_type": "code",
   "execution_count": null,
   "id": "50f19a03",
   "metadata": {},
   "outputs": [],
   "source": [
    "callable(lambda x: x)"
   ]
  },
  {
   "cell_type": "code",
   "execution_count": null,
   "id": "baf0d12c",
   "metadata": {},
   "outputs": [],
   "source": [
    "callable(Lineal)"
   ]
  },
  {
   "cell_type": "markdown",
   "id": "b3c7e1b1",
   "metadata": {},
   "source": [
    "\n",
    "## Módulos y paquetes\n",
    "\n",
    "\n",
    "Buenísimo estos *notebooks* pero ¿qué pasa si quiero reusar código? \n",
    "\n",
    "Hay que crear **módulos**. \n",
    "\n",
    "Por ejemplo, creemos un módulo para guardar la función que encuentra raíces de segundo grado.\n",
    "\n",
    "Podemos abrir cualquier editor (incluído el que trae el propio jupyter), o alternativamente podemos preceder la celda con la \"función magic\" (que aporta Jupyter y se denotan por empezar con `%` o `%%`), en este caso `%%writefile`\n",
    "\n",
    "El resultado es dejar el un archivo llamado `cuadratica.py` con el código de nuestra función en el mismo directorio donde tenemos el notebook (el archivo .ipynb)"
   ]
  },
  {
   "cell_type": "code",
   "execution_count": null,
   "id": "0ec5ef15",
   "metadata": {},
   "outputs": [],
   "source": [
    "%%writefile cuadratica.py     \n",
    "\n",
    "UNA_CONSTANTE = (1, \"hola muchachos\")\n",
    "\n",
    "def raices(a, b=0, c=0):\n",
    "    \"\"\"dados los coeficientes, encuentra los valores de x tal que ax^2 + bx + c = 0\"\"\"\n",
    "\n",
    "    discriminante = (b**2 - 4*a*c)**0.5\n",
    "    x1 = (-b + discriminante)/(2*a)\n",
    "    x2 = (-b - discriminante)/(2*a)\n",
    "    return (x1, x2)\n",
    "    \n",
    "       "
   ]
  },
  {
   "cell_type": "markdown",
   "id": "e1f3526a",
   "metadata": {},
   "source": [
    "Lo hemos guardado en un archivo `cuadratica.py` en el directorio donde estamos corriendo esta consola (notebook), entonces directamente podemos **importar** ese modulo. "
   ]
  },
  {
   "cell_type": "code",
   "execution_count": null,
   "id": "8c1af9e6",
   "metadata": {
    "tags": []
   },
   "outputs": [],
   "source": [
    "import cuadratica"
   ]
  },
  {
   "cell_type": "code",
   "execution_count": null,
   "id": "cc62fa3c",
   "metadata": {},
   "outputs": [],
   "source": [
    "type(cuadratica)"
   ]
  },
  {
   "cell_type": "code",
   "execution_count": null,
   "id": "5de7b31e",
   "metadata": {},
   "outputs": [],
   "source": [
    "cuadratica.UNA_CONSTANTE"
   ]
  },
  {
   "cell_type": "code",
   "execution_count": null,
   "id": "2006f4f6",
   "metadata": {},
   "outputs": [],
   "source": [
    "cuadratica.raices(2, c=-2)"
   ]
  },
  {
   "cell_type": "markdown",
   "id": "de4b9cf2",
   "metadata": {},
   "source": [
    "El módulo `cuadratica` importado funciona como *\"espacio de nombres\"*, donde todos los objetos definidos dentro son atributos"
   ]
  },
  {
   "cell_type": "markdown",
   "id": "bbbc6211",
   "metadata": {},
   "source": [
    "Importar un modulo es importar un \"espacio de nombres\", donde todo lo que el modulo contenga (funciones, clases, constantes, etc.) se accederá como un atributo del modulo de la forma  `modulo.<objeto>`\n",
    "\n",
    "Cuando el nombre del espacio de nombres es muy largo, podemos ponerle un alias\n"
   ]
  },
  {
   "cell_type": "code",
   "execution_count": null,
   "id": "c3a56913",
   "metadata": {},
   "outputs": [],
   "source": [
    "import cuadratica as cuad   # igual que la primera forma pero poniendole un alias (mas breve). \n",
    "\n",
    "cuad.raices(24,6,-5)"
   ]
  },
  {
   "cell_type": "markdown",
   "id": "9f02d64c",
   "metadata": {},
   "source": [
    "Si **sólo queremos alguna unidad de código y no todo el módulo**, entonces podemos hacer una importación selectiva"
   ]
  },
  {
   "cell_type": "code",
   "execution_count": null,
   "id": "a6162df0",
   "metadata": {
    "tags": []
   },
   "outputs": [],
   "source": [
    "from cuadratica import raices  # sólo importa el \"objeto\" que indequemos y lo deja \n",
    "                               # en el espacio de nombres desde el que estamos importando"
   ]
  },
  {
   "cell_type": "code",
   "execution_count": null,
   "id": "3f7d3b5f",
   "metadata": {
    "tags": []
   },
   "outputs": [],
   "source": [
    "raices is cuadratica.raices"
   ]
  },
  {
   "cell_type": "code",
   "execution_count": null,
   "id": "582e4c3d",
   "metadata": {
    "collapsed": true,
    "jupyter": {
     "outputs_hidden": true
    }
   },
   "outputs": [],
   "source": [
    "%"
   ]
  },
  {
   "cell_type": "markdown",
   "id": "ec4a4fa5",
   "metadata": {},
   "source": [
    "Si, como sucede en general, el módulo definiera más de una unidad de código (una función, clase, constantes, etc.) podemos usar una tupla para importar varias cosas cosas al espacio de nombres actual. Por ejemplo:\n",
    "\n",
    "      from cuadratica import (raices, integral, diferencial) \n",
    " \n",
    "Por último, si queremos importar todo pero no usar el prefijo, podemos usar el `*`. **Esto no es recomendado**\n",
    "    \n",
    "    from cuadratica import *\n",
    "\n",
    "\n",
    "### Ejercicios\n",
    "\n",
    "1. Cree un módulo `circunferencia.py` que defina una constante `PI` y una función `area(r)` que calcula el área para una circunferencia de radio `r`. \n",
    "\n",
    "2. Desde una celda de la sesión intereactiva, importe todo el módulo como un alias `circle` y verifique `circle.PI` y `circle.area()`. Luego importe utilizando la forma `from circunferencia import ...` que importe también la función y la constante\n",
    "\n",
    "3. verifique que circle.area y area son el mismo objeto"
   ]
  },
  {
   "cell_type": "markdown",
   "id": "d103c906",
   "metadata": {},
   "source": [
    "### Paquetes: módulos de módulos\n",
    "\n",
    "Cuando tenemos muchos módulos que están relacionados es bueno armar un **paquete**. Un paquete de modulos es un simple directorio con un módulo especial llamado `__init__.py` (que puede estar vacio) y tantos modulos y subpaquetes como queramos. \n",
    "\n",
    "\n",
    "Los paquetes se usan igual que un módulo. Por ejemplo, supongamos que tenemos una estructura\n",
    "\n",
    "    paquete/\n",
    "       __init__.py\n",
    "       modulo.py\n",
    "\n",
    "Puedo importar la `funcion_loca` definida en `modulo.py` así \n",
    "\n",
    "    from paquete.modulo import funcion_loca \n"
   ]
  },
  {
   "cell_type": "code",
   "execution_count": null,
   "id": "fb4484d8",
   "metadata": {},
   "outputs": [],
   "source": [
    "%mkdir paquete             # creamos un directorio  \"paquete\""
   ]
  },
  {
   "cell_type": "code",
   "execution_count": null,
   "id": "2fdce8f1",
   "metadata": {},
   "outputs": [],
   "source": [
    "%%writefile paquete/__init__.py         \n",
    "\n",
    "__all__ = [\"version\", \"f\"]\n",
    "\n",
    "import os\n",
    "version = \"1.0\"\n",
    "\n",
    "def f():\n",
    "    print(\"lala\")\n",
    "\n",
    "\n",
    "\n",
    "print(os.listdir(\".\"))"
   ]
  },
  {
   "cell_type": "code",
   "execution_count": null,
   "id": "c9e8d9ba",
   "metadata": {},
   "outputs": [],
   "source": [
    "%%writefile paquete/modulo.py\n",
    "\n",
    "def funcion_loca(w=500,h=300):\n",
    "    _                                      =   (\n",
    "                                        255,\n",
    "                                      lambda\n",
    "                               V       ,B,c\n",
    "                             :c   and Y(V*V+B,B,  c\n",
    "                               -1)if(abs(V)<6)else\n",
    "               (              2+c-4*abs(V)**-.4)/i\n",
    "                 )  ;v,      x=w,h; C = range(-1,v*x \n",
    "                  +1);import  struct; P = struct.pack;M, \\\n",
    "            j  =b'<QIIHHHH',open('M.bmp','wb').write; k= v,x,1,24\n",
    "    for X in C or 'Mandelbrot. Adapted to Python3 by @tin_nqn_':\n",
    "        j(b'BM' + P(M, v*x*3+26, 26, 12,*k)) if X==-1 else 0; i,\\\n",
    "            Y=_;j(P(b'BBB',*(lambda T: map(int, (T*80+T**9\n",
    "                  *i-950*T  **99,T*70-880*T**18 + 701*\n",
    "                 T  **9     ,T*i**(1-T**45*2))))(sum(\n",
    "               [              Y(0,(A%3/3.+X%v+(X/v+\n",
    "                               A/3/3.-x/2)/1j)*2.5\n",
    "                             /x   -2.7,i)**2 for  \\\n",
    "                               A       in C\n",
    "                                      [:9]])\n",
    "                                        /9)\n",
    "                                       )   )"
   ]
  },
  {
   "cell_type": "code",
   "execution_count": null,
   "id": "5eac5a16",
   "metadata": {},
   "outputs": [],
   "source": [
    "from paquete import modulo as m # import funcion_loca\n",
    "m.funcion_loca()\n",
    "\n",
    "# podes ver el resultado creando una celda tipo Markdown con el contenido:\n",
    "#\n",
    "# ![](files/M.bmp)"
   ]
  },
  {
   "cell_type": "markdown",
   "id": "9bc8be34",
   "metadata": {},
   "source": [
    "![](files/M.bmp)"
   ]
  },
  {
   "cell_type": "code",
   "execution_count": null,
   "id": "cb42226d",
   "metadata": {},
   "outputs": [],
   "source": [
    "from paquete.modulo import funcion_loca as fl2"
   ]
  },
  {
   "cell_type": "code",
   "execution_count": null,
   "id": "a20244da",
   "metadata": {},
   "outputs": [],
   "source": [
    "fl2 is m.funcion_loca"
   ]
  },
  {
   "cell_type": "code",
   "execution_count": null,
   "id": "1dade85f",
   "metadata": {},
   "outputs": [],
   "source": [
    "import paquete"
   ]
  },
  {
   "cell_type": "code",
   "execution_count": null,
   "id": "0f5ba394",
   "metadata": {},
   "outputs": [],
   "source": [
    "paquete.os"
   ]
  },
  {
   "cell_type": "code",
   "execution_count": null,
   "id": "5330256c",
   "metadata": {},
   "outputs": [],
   "source": [
    "paquete.o"
   ]
  },
  {
   "cell_type": "code",
   "execution_count": null,
   "id": "3b87aefe",
   "metadata": {},
   "outputs": [],
   "source": [
    "import this"
   ]
  },
  {
   "cell_type": "markdown",
   "id": "528b2eea",
   "metadata": {},
   "source": [
    "#### Ejercicio:\n",
    "\n",
    "1. Cree un paquete `geometria` que contenga el modulo `circunferencia` creado anterioriomente y otro análogo que se llame `rectangulo` que contenga tambien una función `area`, con el cálculo correspondiente. \n",
    "\n",
    "2. Verifique \n",
    "\n",
    "    * `import geometria`, \n",
    "    * `from geometria import rectangulo`, \n",
    "    * `from geometria.circunferencia import pi, area`\n",
    "    * `from geometria.rectangulo import area as area_rect`\n",
    "\n",
    "\n",
    "\n",
    "## Biblioteca estándar: las baterías puestas de Python\n",
    "\n",
    "Sin entrar en detalles, ya utilizamos algunos módulos que trae python, por ejemplo cuando importamos el módulo `math` para usar las funciones matemáticas y constantes que define\n",
    "    \n",
    "    import math\n",
    "\n",
    "\n",
    "Hay muchísimas más funcionalidades que vienen incorporadas al lenguaje y están estandarizadas para que funcionen (salvo casos específicos) de la misma manera en cualquier implementación de Python y sistema operativo. Es lo que se conoce como la [biblioteca estándar de python](http://docs.python.org/3/library/) y es muy abarcativa y potente. \n",
    "\n",
    "Además de funciones matemáticas, manejo de algunos formatos de archivos más específicos que el \"texto plano\", protocolos de internet, otras *clases* de números y estructuras de datos,  etc. \n"
   ]
  },
  {
   "cell_type": "markdown",
   "id": "0cb8dc38",
   "metadata": {},
   "source": [
    "### Números aleatorios\n",
    "\n",
    "Todas las funciones relacionadas a la aleatoriedad están en el módulo `random`. \n",
    "\n",
    "Ver [documentación](https://docs.python.org/3/library/random.html)"
   ]
  },
  {
   "cell_type": "code",
   "execution_count": null,
   "id": "c124789d",
   "metadata": {},
   "outputs": [],
   "source": [
    "import random\n",
    "\n",
    "# la función más básica\n",
    "random.random()                      # float aleatorio, 0.0 <= x < 1.0"
   ]
  },
  {
   "cell_type": "code",
   "execution_count": null,
   "id": "7394c9cd",
   "metadata": {},
   "outputs": [],
   "source": [
    "random.randrange(-10, 11, 2)           # análogo a range() devuelve un numero aleatorio de la serie"
   ]
  },
  {
   "cell_type": "code",
   "execution_count": null,
   "id": "95e993a0",
   "metadata": {},
   "outputs": [],
   "source": [
    "random.choice([0.3, 10, 'A'])     # elige un elemento al azar de una secuencia no vacía"
   ]
  },
  {
   "cell_type": "code",
   "execution_count": null,
   "id": "5f4b19a6",
   "metadata": {},
   "outputs": [],
   "source": [
    "random.sample(l, k=5)      # elige k elementos de la poblacion dada "
   ]
  },
  {
   "cell_type": "code",
   "execution_count": null,
   "id": "08c55d59",
   "metadata": {
    "collapsed": true,
    "jupyter": {
     "outputs_hidden": true
    }
   },
   "outputs": [],
   "source": [
    "l = list(range(10))"
   ]
  },
  {
   "cell_type": "code",
   "execution_count": null,
   "id": "03c4f1bd",
   "metadata": {},
   "outputs": [],
   "source": [
    "l"
   ]
  },
  {
   "cell_type": "code",
   "execution_count": null,
   "id": "55cfc320",
   "metadata": {},
   "outputs": [],
   "source": [
    "random.shuffle(l)       # \"desordena\" una lista (inline)\n",
    "l"
   ]
  },
  {
   "cell_type": "markdown",
   "id": "8fc49397",
   "metadata": {},
   "source": [
    "También tiene muchas funciones de probabilidad"
   ]
  },
  {
   "cell_type": "code",
   "execution_count": null,
   "id": "f471e40b",
   "metadata": {},
   "outputs": [],
   "source": [
    "[method for method in dir(random) if method.endswith('variate')]"
   ]
  },
  {
   "cell_type": "code",
   "execution_count": null,
   "id": "7856420b",
   "metadata": {
    "collapsed": true,
    "jupyter": {
     "outputs_hidden": true
    }
   },
   "outputs": [],
   "source": [
    "random.normalvariate??"
   ]
  },
  {
   "cell_type": "code",
   "execution_count": null,
   "id": "0b2837ae",
   "metadata": {},
   "outputs": [],
   "source": [
    "import this"
   ]
  },
  {
   "cell_type": "markdown",
   "id": "a6a8921e",
   "metadata": {},
   "source": [
    "#### Ejercicio\n",
    "\n",
    "1. Crear un generador de 1000 números aleatorios pertecientes a una curva de probabilidad normal con media 1 y variancia 0.25. \n",
    "\n",
    "2. Verificar que la media y la variancia son cercanas a las esperadas (Tip: investigar las funciones del módulo `statistics`)\n"
   ]
  },
  {
   "cell_type": "code",
   "execution_count": null,
   "id": "65aa0b9c",
   "metadata": {},
   "outputs": [],
   "source": [
    "sum(random.normalvariate(1, 0.25) for i in range(10000)) / 10000"
   ]
  },
  {
   "cell_type": "code",
   "execution_count": null,
   "id": "d2cd183d",
   "metadata": {
    "collapsed": true,
    "jupyter": {
     "outputs_hidden": true
    }
   },
   "outputs": [],
   "source": [
    "import statistics"
   ]
  },
  {
   "cell_type": "code",
   "execution_count": null,
   "id": "abcd2e91",
   "metadata": {},
   "outputs": [],
   "source": [
    "statistics.stdev((random.normalvariate(1, 0.25) for i in range(10000)))"
   ]
  },
  {
   "cell_type": "markdown",
   "id": "5c44572b",
   "metadata": {},
   "source": [
    "## Serialización \n",
    "\n",
    "A veces queremos **serializar un objeto** cualquiera para poder recuperarlo más adelante. Si sólo nos interesa persistir y recuperar información **a nivel Python** podemos usar le módulo [`pickle`](https://docs.python.org/3.4/library/pickle.html). "
   ]
  },
  {
   "cell_type": "code",
   "execution_count": null,
   "id": "7514a755",
   "metadata": {
    "collapsed": true,
    "jupyter": {
     "outputs_hidden": true
    }
   },
   "outputs": [],
   "source": [
    "información = ['puede', 'ser', {'casi': [], 'cualquier': 100, 'cosa': ('!',)}]\n",
    "\n",
    "import pickle\n",
    "\n",
    "info_serial =  pickle.dumps(información)"
   ]
  },
  {
   "cell_type": "code",
   "execution_count": null,
   "id": "0e0db492",
   "metadata": {},
   "outputs": [],
   "source": [
    "# en sentido contrario\n",
    "pickle.loads(info_serial)"
   ]
  },
  {
   "cell_type": "code",
   "execution_count": null,
   "id": "3cd2f932",
   "metadata": {
    "collapsed": true,
    "jupyter": {
     "outputs_hidden": true
    }
   },
   "outputs": [],
   "source": [
    "# O bien guardar directamente a un archivo\n",
    "\n",
    "pickle.dump(información, open('datos.pkl', 'wb'))"
   ]
  },
  {
   "cell_type": "code",
   "execution_count": null,
   "id": "1d2639e3",
   "metadata": {},
   "outputs": [],
   "source": [
    "!cat datos.pkl"
   ]
  },
  {
   "cell_type": "code",
   "execution_count": null,
   "id": "f9cad74e",
   "metadata": {
    "collapsed": true,
    "jupyter": {
     "outputs_hidden": true
    }
   },
   "outputs": [],
   "source": [
    "pickle.load(open('datos.pkl', 'rb'))"
   ]
  },
  {
   "cell_type": "markdown",
   "id": "334c9665",
   "metadata": {},
   "source": [
    "Siempre que la clase **sea serializable** (es decir, que se base en otras clases serializables), pickle permite serializar instancias de clases arbitrarias. "
   ]
  },
  {
   "cell_type": "code",
   "execution_count": null,
   "id": "6135cf14",
   "metadata": {},
   "outputs": [],
   "source": [
    "class A:\n",
    "    \"una clase que no hace absolutamente nada\"\n",
    "    dato = 45\n",
    "\n",
    "a = A()\n",
    "\n",
    "a_serializado = pickle.dumps(a)\n",
    "a_serializado"
   ]
  },
  {
   "cell_type": "code",
   "execution_count": null,
   "id": "ff0e4e9c",
   "metadata": {},
   "outputs": [],
   "source": [
    "type(a_serializado)    # la serializados es como datos binarios \"crudos\""
   ]
  },
  {
   "cell_type": "code",
   "execution_count": null,
   "id": "c948036a",
   "metadata": {
    "collapsed": true,
    "jupyter": {
     "outputs_hidden": true
    }
   },
   "outputs": [],
   "source": [
    "b= pickle.loads(a_serializado)"
   ]
  },
  {
   "cell_type": "code",
   "execution_count": null,
   "id": "0b72186d",
   "metadata": {},
   "outputs": [],
   "source": [
    "b.dato"
   ]
  },
  {
   "cell_type": "markdown",
   "id": "681d049f",
   "metadata": {},
   "source": [
    "El objeto reconstruído tiene *el mismo estado* (es identico) al original, pero no es en sí el mismo objeto"
   ]
  },
  {
   "cell_type": "code",
   "execution_count": null,
   "id": "4224d96e",
   "metadata": {},
   "outputs": [],
   "source": [
    "b is a"
   ]
  },
  {
   "cell_type": "markdown",
   "id": "cff4c6e1",
   "metadata": {},
   "source": [
    "Un detalle importante: para poder deseralizar un objeto arbitrario, su clase debe existir en el espacio de nombres"
   ]
  },
  {
   "cell_type": "code",
   "execution_count": null,
   "id": "294a4778",
   "metadata": {},
   "outputs": [],
   "source": [
    "del A    # borramos la clase A del espacio de nombres global\n",
    "pickle.loads(a_serializado)"
   ]
  },
  {
   "cell_type": "markdown",
   "id": "cd3d8a9f",
   "metadata": {},
   "source": [
    "**pickle** es un tipo de serialización específica para Python. Una alternativa más genérica que muchos otros lenguajes soportan (y es muy típica para compartir datos a traves de \"APIs\" en la web) es el formato [JSON](https://es.wikipedia.org/wiki/JSON), que funciona igual, pero genera una serialización en formato texto y más legible por humanos"
   ]
  },
  {
   "cell_type": "code",
   "execution_count": null,
   "id": "e33c2ef5",
   "metadata": {},
   "outputs": [],
   "source": [
    "import json\n",
    "\n",
    "json.dumps(información)"
   ]
  },
  {
   "cell_type": "markdown",
   "id": "1f681102",
   "metadata": {},
   "source": [
    "## Ejecutando otros \"programas\" desde jupyter y python\n",
    "\n",
    "Jupyter permite llamar a programas subyacentes preciendo el comando con un signo de exclamación "
   ]
  },
  {
   "cell_type": "code",
   "execution_count": null,
   "id": "c755c816",
   "metadata": {
    "collapsed": true,
    "jupyter": {
     "outputs_hidden": true
    }
   },
   "outputs": [],
   "source": [
    "# !notepad   en windows\n",
    "!gedit    # abre el programa gedit en linux  "
   ]
  },
  {
   "cell_type": "code",
   "execution_count": null,
   "id": "ec87c872",
   "metadata": {
    "collapsed": true,
    "jupyter": {
     "outputs_hidden": true
    }
   },
   "outputs": [],
   "source": []
  },
  {
   "cell_type": "markdown",
   "id": "c5e24a97",
   "metadata": {},
   "source": [
    "Incluso podemos capturar la salida del comando y obtener una lista de textos"
   ]
  },
  {
   "cell_type": "code",
   "execution_count": null,
   "id": "98e43182",
   "metadata": {},
   "outputs": [],
   "source": [
    "mole = !cat pesos.csv | grep \"Mole\"    \n",
    "mole"
   ]
  },
  {
   "cell_type": "markdown",
   "id": "a83347b9",
   "metadata": {},
   "source": [
    "Si queremos hacer esto en \"Python puro\", por ejemplo porque queremos que una función ejecute un programa \n",
    "\n",
    "debemos usar el módulo `subprocess`"
   ]
  },
  {
   "cell_type": "code",
   "execution_count": null,
   "id": "0e17711d",
   "metadata": {},
   "outputs": [],
   "source": [
    "import subprocess\n",
    "\n",
    "subprocess.run(['gedit'])"
   ]
  },
  {
   "cell_type": "code",
   "execution_count": null,
   "id": "579a6697",
   "metadata": {},
   "outputs": [],
   "source": [
    "subprocess.check_output(['echo', 'hola python, soy echo'])    # se ejecuta en el \"kernel\" (ver consola)"
   ]
  },
  {
   "cell_type": "markdown",
   "id": "b54971ac",
   "metadata": {},
   "source": [
    "## Más estructuras de datos!"
   ]
  },
  {
   "cell_type": "markdown",
   "id": "332f34d4",
   "metadata": {},
   "source": [
    "El módulo [`collections`](https://docs.python.org/3.4/library/collections.html)  tiene muchas otras clases complementarias a las listas, tuplas, diccionarios y conjuntos que ya vimos, útiles para propósitos específicos "
   ]
  },
  {
   "cell_type": "code",
   "execution_count": null,
   "id": "f100bbfb",
   "metadata": {
    "collapsed": true,
    "jupyter": {
     "outputs_hidden": true
    }
   },
   "outputs": [],
   "source": [
    "from collections import Counter, OrderedDict  #hay más!"
   ]
  },
  {
   "cell_type": "markdown",
   "id": "621f368a",
   "metadata": {},
   "source": [
    "OrderedDict es... un diccionario que sí queda ordenado"
   ]
  },
  {
   "cell_type": "code",
   "execution_count": null,
   "id": "d8adb807",
   "metadata": {
    "collapsed": true,
    "jupyter": {
     "outputs_hidden": true
    }
   },
   "outputs": [],
   "source": [
    "OrderedDict.__doc__    # para http://twitter.com/Obvio"
   ]
  },
  {
   "cell_type": "code",
   "execution_count": null,
   "id": "80dc0bfb",
   "metadata": {
    "collapsed": true,
    "jupyter": {
     "outputs_hidden": true
    }
   },
   "outputs": [],
   "source": [
    "d = OrderedDict()\n",
    "d['item_1'] = 1\n",
    "d['item_2'] = '1 millon'\n",
    "d['item_3'] = None\n",
    "for par in d.items():\n",
    "    print(par)\n"
   ]
  },
  {
   "cell_type": "markdown",
   "id": "d5e67666",
   "metadata": {},
   "source": [
    "`Counter` recibe cualquier secuencia y cuenta los elementos "
   ]
  },
  {
   "cell_type": "code",
   "execution_count": null,
   "id": "2af26acc",
   "metadata": {
    "collapsed": true,
    "jupyter": {
     "outputs_hidden": true
    }
   },
   "outputs": [],
   "source": [
    "contador = Counter('abracadabra')\n",
    "contador"
   ]
  },
  {
   "cell_type": "code",
   "execution_count": null,
   "id": "01975c66",
   "metadata": {
    "collapsed": true,
    "jupyter": {
     "outputs_hidden": true
    },
    "lines_to_next_cell": 2
   },
   "outputs": [],
   "source": [
    "contador.most_common(3)"
   ]
  },
  {
   "cell_type": "markdown",
   "id": "a8de36c7",
   "metadata": {},
   "source": [
    "### Defauldict"
   ]
  },
  {
   "cell_type": "code",
   "execution_count": null,
   "id": "414c38e8",
   "metadata": {},
   "outputs": [],
   "source": [
    "d2 = defaultdict(int)"
   ]
  },
  {
   "cell_type": "code",
   "execution_count": null,
   "id": "e05d3208",
   "metadata": {},
   "outputs": [],
   "source": [
    "d2"
   ]
  },
  {
   "cell_type": "code",
   "execution_count": null,
   "id": "ad22cce4",
   "metadata": {},
   "outputs": [],
   "source": [
    "d2[\"manzanas\"]"
   ]
  },
  {
   "cell_type": "code",
   "execution_count": null,
   "id": "33ad9d14",
   "metadata": {},
   "outputs": [],
   "source": [
    "d2[\"manzanas\"] += 1   #  d2[\"manzanas\"] = d2[\"manzanas\"] + 1"
   ]
  },
  {
   "cell_type": "code",
   "execution_count": null,
   "id": "ef8e50ae",
   "metadata": {},
   "outputs": [],
   "source": [
    "d2"
   ]
  },
  {
   "cell_type": "code",
   "execution_count": null,
   "id": "97a99d9d",
   "metadata": {},
   "outputs": [],
   "source": [
    "d2[\"manzanas\"] += 1 "
   ]
  },
  {
   "cell_type": "markdown",
   "id": "9e84c3a8",
   "metadata": {},
   "source": [
    "## Herramientas para construir y consumir iteradores: itertools"
   ]
  },
  {
   "cell_type": "code",
   "execution_count": null,
   "id": "7bd12bc5",
   "metadata": {},
   "outputs": [],
   "source": [
    "import itertools\n",
    "numeros = range(3)\n",
    "letras = [\"a\", \"b\", \"c\"]    # list(\"abc\")\n",
    "\n",
    "for elemento in itertools.chain(numeros, letras):\n",
    "    print(elemento)"
   ]
  },
  {
   "cell_type": "code",
   "execution_count": null,
   "id": "08fecee6",
   "metadata": {
    "tags": []
   },
   "outputs": [],
   "source": [
    "for (numero, letra) in itertools.product(numeros, letras):\n",
    "    print(f\"{numero}.{letra}\")\n"
   ]
  },
  {
   "cell_type": "code",
   "execution_count": null,
   "id": "e804e3f4",
   "metadata": {},
   "outputs": [],
   "source": [
    "list(itertools.combinations(\"abc\", 2))"
   ]
  },
  {
   "cell_type": "code",
   "execution_count": null,
   "id": "200cd846",
   "metadata": {},
   "outputs": [],
   "source": [
    "itertools.permutations"
   ]
  },
  {
   "cell_type": "code",
   "execution_count": null,
   "id": "56e81225",
   "metadata": {},
   "outputs": [],
   "source": [
    "list(itertools.permutations(\"abc\", 2))"
   ]
  },
  {
   "cell_type": "code",
   "execution_count": null,
   "id": "2715f597",
   "metadata": {},
   "outputs": [],
   "source": [
    "!pip install more_itertools"
   ]
  },
  {
   "cell_type": "code",
   "execution_count": null,
   "id": "d42a401a",
   "metadata": {},
   "outputs": [],
   "source": [
    "from more_itertools import chunked"
   ]
  },
  {
   "cell_type": "code",
   "execution_count": null,
   "id": "147241b5",
   "metadata": {},
   "outputs": [],
   "source": [
    "class Order:\n",
    "    def __init__(self, id):\n",
    "        self.id = id\n",
    "    def __repr__(self):\n",
    "        return f\"Order(id={self.id})\"\n",
    "\n",
    "ordenes = [Order(id=i) for i in range(10)]\n",
    "\n",
    "# for order in ordenes:\n",
    "#    print(order)\n",
    "\n",
    "from time import sleep\n",
    "    \n",
    "for chunk in chunked(ordenes, 2):\n",
    "    for order in chunk:\n",
    "        print(order)\n",
    "    sleep(1)"
   ]
  },
  {
   "cell_type": "markdown",
   "id": "c7339d6b",
   "metadata": {},
   "source": [
    "### Herramientas de programación funcional\n",
    "\n",
    "\n",
    "```python\n",
    "import functools\n",
    "\n",
    "def saludo(nombre, palabra_de_saludo):\n",
    "    print(f\"{palabra_de_saludo} {nombre}\")\n",
    "\n",
    "\n",
    "hola = functools.partial(saludo, palabra_de_saludo=\"Hola\")\n",
    "```\n",
    "\n",
    "`partial` produce una version \"customizada\" de la función `saludo` fijandole argumentos. \n",
    "\n",
    "Las siguientes llamadas son equivalentes.\n",
    "\n",
    "```python\n",
    "saludo(\"Alvar\", \"Hola\")\n",
    "```\n",
    "\n",
    "```python\n",
    "hola(\"Alvar\")\n",
    "```\n",
    "\n",
    "```python\n",
    "callable(hola)\n",
    "```\n",
    "\n",
    "```python\n",
    "hola\n",
    "```\n",
    "\n",
    "\n",
    "```python\n",
    "functools.reduce(lambda a, b: a + b, range(10)) \n",
    "```\n",
    "\n",
    "```python\n",
    "list(map(lambda a: a + 10, range(10)))\n",
    "```\n",
    "\n",
    "\n",
    "<!-- #region -->\n",
    "## Escribir programas de línea de comando: argparse\n",
    "\n",
    "\n",
    "Ya vimos que es muy simple ejecutar un módulo de python como un **script**. Simplemente hay que pasar como parámetro al ejecutable python el módulo en cuestión \n",
    "\n",
    "    python archivo.py\n"
   ]
  },
  {
   "cell_type": "code",
   "execution_count": null,
   "id": "c8f27295",
   "metadata": {},
   "outputs": [],
   "source": [
    "%%writefile ejemplo_script.py\n",
    "\n",
    "saludo = \"Hola Mundo\"\n",
    "\n",
    "print(saludo)"
   ]
  },
  {
   "cell_type": "code",
   "execution_count": null,
   "id": "33c4dd5a",
   "metadata": {},
   "outputs": [],
   "source": [
    "!python ejemplo_script.py"
   ]
  },
  {
   "cell_type": "markdown",
   "id": "d6162f4b",
   "metadata": {},
   "source": [
    "El tema es que si importamos ese módulo desde la sesión interactiva o desde otro módulo, tambien se ejecutará todo el código que defina"
   ]
  },
  {
   "cell_type": "code",
   "execution_count": null,
   "id": "1a59fd05",
   "metadata": {},
   "outputs": [],
   "source": [
    "from ejemplo_script import saludo\n",
    "print(saludo)"
   ]
  },
  {
   "cell_type": "markdown",
   "id": "67c5a52a",
   "metadata": {},
   "source": [
    "A veces queremos que **se ejecute algo sólo cuando lo invocamos como script** y no cuando lo importamos. \n",
    "\n",
    "Para eso podemos valernos de que Python asigna el nombre `__main__` al módulo principal con que fue llamado, en la variable global `__name__`"
   ]
  },
  {
   "cell_type": "code",
   "execution_count": null,
   "id": "4ed956d9",
   "metadata": {},
   "outputs": [],
   "source": [
    "%%writefile ejemplo_script2.py\n",
    "\n",
    "saludo = \"Hola Mundo\"\n",
    "\n",
    "if __name__ == '__main__':\n",
    "    # esto se ejecuta solo cuando el modulo se llama como script\n",
    "    # no cuando se importa desde otro modulo o desde la sesion interactiva\n",
    "    print(saludo)"
   ]
  },
  {
   "cell_type": "code",
   "execution_count": null,
   "id": "880be107",
   "metadata": {},
   "outputs": [],
   "source": [
    "from ejemplo_script2 import saludo\n",
    "saludo[:4]"
   ]
  },
  {
   "cell_type": "code",
   "execution_count": null,
   "id": "379d880c",
   "metadata": {},
   "outputs": [],
   "source": [
    "!python ejemplo_script2.py"
   ]
  },
  {
   "cell_type": "markdown",
   "id": "e19cc143",
   "metadata": {},
   "source": [
    "Si bien un programa de linea de comandos puede solicitar información al usuario interactivamente (por ejemplo, a utilizando la función `input()`), lo más típico es que los argumentos se pasen directamente en la llamada\n",
    "\n",
    "    python mi_programa.py <parametro> [parametro 2]\n",
    "    \n",
    "    \n",
    "Python guarda todos los argumentos pasados (incluyendo el nombre del propio módulo) en una lista llamada `argv` del módulo `sys`"
   ]
  },
  {
   "cell_type": "code",
   "execution_count": null,
   "id": "47f30219",
   "metadata": {},
   "outputs": [],
   "source": [
    "%%writefile ejemplo_argv.py\n",
    "\n",
    "if __name__ == '__main__':\n",
    "    import sys\n",
    "    print(sys.argv)"
   ]
  },
  {
   "cell_type": "code",
   "execution_count": null,
   "id": "79ae94af",
   "metadata": {},
   "outputs": [],
   "source": [
    "%%writefile suma.py\n",
    "\n",
    "if __name__ == '__main__':\n",
    "    import sys\n",
    "    print(sum([int(numero) for numero in sys.argv[1:]]))"
   ]
  },
  {
   "cell_type": "code",
   "execution_count": null,
   "id": "facb919b",
   "metadata": {},
   "outputs": [],
   "source": [
    "!python suma.py 10 34 34"
   ]
  },
  {
   "cell_type": "code",
   "execution_count": null,
   "id": "015699f0",
   "metadata": {},
   "outputs": [],
   "source": [
    "!python ejemplo_argv.py --allthenight --shampein --myidol"
   ]
  },
  {
   "cell_type": "markdown",
   "id": "b2cba335",
   "metadata": {},
   "source": [
    "Para parámetros muy simples podemos buscar valores directamente en esta lista, por ejemplo:\n",
    "\n",
    "      if '--allthenigh' in sys.argv:\n",
    "           room.append(cristal)\n",
    "           \n",
    "Pero la mayoría de las veces los argumentos posibles son más complejos y se requiere una **librería para procesar los argumentos** dados, convertirlos a un tipo de datos particular, asignar valores defaults a aquellos parametros que no se explicitaron, generar un resumen de la opciones disponibles a modo de ayuda, etc. \n",
    "\n",
    "Para esto se puede usar el módulo [`argparse`](https://docs.python.org/3/library/argparse.html#module-argparse)\n",
    "\n",
    "\n"
   ]
  },
  {
   "cell_type": "code",
   "execution_count": null,
   "id": "812a5ec4",
   "metadata": {},
   "outputs": [],
   "source": [
    "%%writefile prog.py\n",
    "\n",
    "import argparse\n",
    "\n",
    "if __name__ == '__main__':\n",
    "\n",
    "    parser = argparse.ArgumentParser(description='Procesa una lista de enteros')\n",
    "    # uno o mas argumentos. se acumulan en una lista\n",
    "    parser.add_argument('enteros', metavar='N', type=int, nargs='+',        \n",
    "                       help='an integer for the accumulator')\n",
    "    parser.add_argument('--sum', dest='operacion', action='store_const',    # si se pasa --sum se usará const \n",
    "                       const=sum, default=max,                              # en vez de default\n",
    "                       help='sum the integers (default: find the max)')\n",
    "\n",
    "    args = parser.parse_args()\n",
    "    print(args.operacion(args.enteros))"
   ]
  },
  {
   "cell_type": "code",
   "execution_count": null,
   "id": "1bd7c0fa",
   "metadata": {},
   "outputs": [],
   "source": [
    "!python3 prog.py"
   ]
  },
  {
   "cell_type": "code",
   "execution_count": null,
   "id": "68f4f905",
   "metadata": {},
   "outputs": [],
   "source": [
    "!python3 prog.py -h"
   ]
  },
  {
   "cell_type": "code",
   "execution_count": null,
   "id": "15e2216c",
   "metadata": {},
   "outputs": [],
   "source": [
    "!python3 prog.py 10 2 45 106 --sum"
   ]
  }
 ],
 "metadata": {
  "kernelspec": {
   "display_name": "Python 3 (ipykernel)",
   "language": "python",
   "name": "python3"
  },
  "language_info": {
   "codemirror_mode": {
    "name": "ipython",
    "version": 3
   },
   "file_extension": ".py",
   "mimetype": "text/x-python",
   "name": "python",
   "nbconvert_exporter": "python",
   "pygments_lexer": "ipython3",
   "version": "3.9.5"
  }
 },
 "nbformat": 4,
 "nbformat_minor": 5
}
